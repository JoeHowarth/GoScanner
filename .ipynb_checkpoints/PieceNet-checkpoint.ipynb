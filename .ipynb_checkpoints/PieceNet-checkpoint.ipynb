{
 "cells": [
  {
   "cell_type": "code",
   "execution_count": 1,
   "metadata": {},
   "outputs": [
    {
     "name": "stderr",
     "output_type": "stream",
     "text": [
      "Using TensorFlow backend.\n"
     ]
    }
   ],
   "source": [
    "import numpy as np\n",
    "import pandas as pd\n",
    "import keras\n",
    "scores = []"
   ]
  },
  {
   "cell_type": "code",
   "execution_count": 2,
   "metadata": {
    "collapsed": true
   },
   "outputs": [],
   "source": [
    "%matplotlib inline\n",
    "\n",
    "from keras.models import Sequential\n",
    "from keras.layers import Dense, Dropout, Activation, Flatten\n",
    "from keras.layers import Convolution2D, MaxPooling2D\n",
    "from keras.layers.convolutional import Conv2D\n",
    "from keras.utils import np_utils\n",
    "from keras.callbacks import EarlyStopping\n",
    "from keras.preprocessing.image import ImageDataGenerator\n",
    "\n",
    "from keras.datasets import cifar10\n",
    "from matplotlib import pyplot as plt\n",
    "\n",
    "from input_utils import showImg, get_images, crop, expand_rect"
   ]
  },
  {
   "cell_type": "code",
   "execution_count": 3,
   "metadata": {},
   "outputs": [
    {
     "name": "stdout",
     "output_type": "stream",
     "text": [
      "key.shape = (144,)\n",
      "key.mean: 2.0\n",
      "(144, 151, 151, 3)\n"
     ]
    }
   ],
   "source": [
    "key = np.genfromtxt('key.csv', delimiter=',')\n",
    "print(\"key.shape =\",key.shape)\n",
    "print('key.mean:',key.mean()) \n",
    "\n",
    "tiles = get_images('./goTiles')\n",
    "tiles = np.stack(tiles)\n",
    "\n",
    "(X_train, y_train), (X_test, y_test) = (tiles, key-1), (None,None)\n",
    "print( X_train.shape)\n",
    "#showImg(X_train[130])"
   ]
  },
  {
   "cell_type": "code",
   "execution_count": 4,
   "metadata": {},
   "outputs": [
    {
     "name": "stdout",
     "output_type": "stream",
     "text": [
      "[1 1 1 1 1 1 1 1 1 1 1 1 1 2 0 1 0 1 1 0 2 0 1 1 1 1 2 1 2 1 1 1 1 1 1 1 1\n",
      " 1 1 1 1 1 1 1 1 1 1 1 1 2 0 0 0 1 1 0 1 2 1 1 1 1 2 1 2 1 1 1 1 1 1 1 1 1\n",
      " 1 1 1 1 1 0 1 2 1 1 1 0 1 1 0 1 1 0 2 2 1 1 1 1 1 1 2 1 1 1 1 1 1 1 1 1 1\n",
      " 1 1 1 0 1 1 0 1 1 0 1 2 2 1 1 1 2 1 1 1 1 1 0 1 1 2 1 1 1 1 1 1 1]\n"
     ]
    }
   ],
   "source": [
    "print (y_train.astype('uint8'))"
   ]
  },
  {
   "cell_type": "code",
   "execution_count": 5,
   "metadata": {
    "collapsed": true
   },
   "outputs": [],
   "source": [
    "# convert to float and normalize\n",
    "X_train = X_train.astype('float32')\n",
    "#X_test = X_test.astype('float32')\n",
    "X_train /= 255\n",
    "#X_test /= 255"
   ]
  },
  {
   "cell_type": "code",
   "execution_count": 6,
   "metadata": {
    "collapsed": true
   },
   "outputs": [],
   "source": [
    "# 1-dim class arrays to 10-dim array \n",
    "Y_train = np_utils.to_categorical(y_train, 3)\n",
    "#Y_test = np_utils.to_categorical(y_test, 10)"
   ]
  },
  {
   "cell_type": "code",
   "execution_count": 7,
   "metadata": {
    "collapsed": true
   },
   "outputs": [],
   "source": [
    "########## \n",
    "# model architecture\n",
    "\n",
    "model = Sequential()\n",
    "\n",
    "model.add(Conv2D(32, (3, 3), activation='relu', padding='same', input_shape=(151,151,3)))\n",
    "model.add(Conv2D(32, (5, 5), activation='relu'))\n",
    "\n",
    "model.add(MaxPooling2D(pool_size=(2,2)))\n",
    "model.add(Dropout(0.25))\n",
    "\n",
    "model.add(Conv2D(16, (3, 3), activation='relu'))\n",
    "model.add(Conv2D(10, (3, 3), activation='relu'))\n",
    "\n",
    "model.add(MaxPooling2D(pool_size=(2,2)))\n",
    "#model.add(Dropout(0.25))\n",
    "\n",
    "model.add(Flatten())\n",
    "model.add(Dense(128, activation='relu'))\n",
    "model.add(Dropout(0.5))\n",
    "model.add(Dense(3, activation='softmax'))\n",
    "\n"
   ]
  },
  {
   "cell_type": "code",
   "execution_count": 8,
   "metadata": {
    "collapsed": true
   },
   "outputs": [],
   "source": [
    "model.compile(optimizer='adam', loss = 'categorical_crossentropy', \n",
    "             metrics=['accuracy'])\n"
   ]
  },
  {
   "cell_type": "code",
   "execution_count": 9,
   "metadata": {
    "collapsed": true
   },
   "outputs": [],
   "source": [
    "#early_stopping = EarlyStopping(monitor='val_loss', patience=2)\n"
   ]
  },
  {
   "cell_type": "code",
   "execution_count": 13,
   "metadata": {},
   "outputs": [
    {
     "name": "stdout",
     "output_type": "stream",
     "text": [
      "Train on 129 samples, validate on 15 samples\n",
      "Epoch 1/2\n",
      "129/129 [==============================] - 0s - loss: 0.7370 - acc: 0.7674 - val_loss: 0.7780 - val_acc: 0.8667\n",
      "Epoch 2/2\n",
      "129/129 [==============================] - 0s - loss: 0.8570 - acc: 0.7674 - val_loss: 0.8235 - val_acc: 0.8667\n"
     ]
    },
    {
     "data": {
      "text/plain": [
       "<keras.callbacks.History at 0x7f569c459208>"
      ]
     },
     "execution_count": 13,
     "metadata": {},
     "output_type": "execute_result"
    }
   ],
   "source": [
    "model.fit(X_train, Y_train, batch_size=32, validation_split=.1, \n",
    "          epochs=2, verbose=1)"
   ]
  },
  {
   "cell_type": "code",
   "execution_count": null,
   "metadata": {
    "collapsed": true
   },
   "outputs": [],
   "source": [
    "score = model.evaluate(X_test, Y_test, verbose=0)\n",
    "scores.append(score)\n",
    "print(score)"
   ]
  },
  {
   "cell_type": "markdown",
   "metadata": {
    "collapsed": true
   },
   "source": [
    "#datagen = ImageDataGenerator(\n",
    "            rotation_range=40,\n",
    "            width_shift_range=0.2,\n",
    "            height_shift_range=0.2,\n",
    "            rescale=1./255,\n",
    "            shear_range=0.2,\n",
    "            zoom_range=0.2,\n",
    "            horizontal_flip=True,\n",
    "            fill_mode='nearest')"
   ]
  },
  {
   "cell_type": "markdown",
   "metadata": {
    "collapsed": true
   },
   "source": [
    "Train on 47500 samples, validate on 2500 samples\n",
    "Epoch 1/10\n",
    "47500/47500 [==============================] - 17s - loss: 1.8500 - acc: 0.2935 - val_loss: 1.5302 - val_acc: 0.4248\n",
    "Epoch 2/10\n",
    "47500/47500 [==============================] - 16s - loss: 1.4836 - acc: 0.4611 - val_loss: 1.2951 - val_acc: 0.5436\n",
    "Epoch 3/10\n",
    "47500/47500 [==============================] - 16s - loss: 1.3042 - acc: 0.5345 - val_loss: 1.1538 - val_acc: 0.5804\n",
    "Epoch 4/10\n",
    "47500/47500 [==============================] - 16s - loss: 1.1980 - acc: 0.5754 - val_loss: 1.0844 - val_acc: 0.6224\n",
    "Epoch 5/10\n",
    "47500/47500 [==============================] - 16s - loss: 1.1024 - acc: 0.6129 - val_loss: 0.9991 - val_acc: 0.6492\n",
    "Epoch 6/10\n",
    "47500/47500 [==============================] - 16s - loss: 1.0362 - acc: 0.6367 - val_loss: 1.0078 - val_acc: 0.6436\n",
    "Epoch 7/10\n",
    "47500/47500 [==============================] - 16s - loss: 0.9887 - acc: 0.6578 - val_loss: 0.9196 - val_acc: 0.6700\n",
    "Epoch 8/10\n",
    "47500/47500 [==============================] - 16s - loss: 0.9528 - acc: 0.6706 - val_loss: 0.8934 - val_acc: 0.6868\n",
    "Epoch 9/10\n",
    "47500/47500 [==============================] - 16s - loss: 0.9223 - acc: 0.6807 - val_loss: 0.8991 - val_acc: 0.6920\n",
    "Epoch 10/10\n",
    "47500/47500 [==============================] - 16s - loss: 0.8877 - acc: 0.6911 - val_loss: 0.8717 - val_acc: 0.6900"
   ]
  }
 ],
 "metadata": {
  "kernelspec": {
   "display_name": "Python [default]",
   "language": "python",
   "name": "python3"
  },
  "language_info": {
   "codemirror_mode": {
    "name": "ipython",
    "version": 3
   },
   "file_extension": ".py",
   "mimetype": "text/x-python",
   "name": "python",
   "nbconvert_exporter": "python",
   "pygments_lexer": "ipython3",
   "version": "3.5.3"
  }
 },
 "nbformat": 4,
 "nbformat_minor": 2
}
