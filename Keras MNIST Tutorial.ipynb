{
 "cells": [
  {
   "cell_type": "code",
   "execution_count": null,
   "metadata": {},
   "outputs": [],
   "source": [
    "import numpy as np\n",
    "import pandas as pd\n",
    "import keras"
   ]
  },
  {
   "cell_type": "code",
   "execution_count": null,
   "metadata": {
    "collapsed": true
   },
   "outputs": [],
   "source": [
    "%matplotlib inline\n",
    "\n",
    "from keras.models import Sequential\n",
    "from keras.layers import Dense, Dropout, Activation, Flatten\n",
    "from keras.layers import Convolution2D, MaxPooling2D\n",
    "from keras.layers.convolutional import Conv2D\n",
    "from keras.utils import np_utils\n",
    "\n",
    "from keras.datasets import mnist\n",
    "from matplotlib import pyplot as plt\n",
    "scores = []"
   ]
  },
  {
   "cell_type": "code",
   "execution_count": null,
   "metadata": {},
   "outputs": [],
   "source": [
    "(X_train, y_train), (X_test, y_test) = mnist.load_data()"
   ]
  },
  {
   "cell_type": "code",
   "execution_count": null,
   "metadata": {},
   "outputs": [],
   "source": [
    "print( X_train.shape)\n",
    "#plt.imshow(X_train[0])\n",
    "\n",
    "X_train = X_train.reshape(X_train.shape[0], 28, 28, 1)\n",
    "X_test = X_test.reshape(X_test.shape[0], 28, 28, 1)\n",
    "\n",
    "print( X_train.shape)"
   ]
  },
  {
   "cell_type": "code",
   "execution_count": null,
   "metadata": {},
   "outputs": [],
   "source": [
    "# convert to float and normalize\n",
    "X_train = X_train.astype('float32')\n",
    "X_test = X_test.astype('float32')\n",
    "X_train /= 255\n",
    "X_test /= 255\n"
   ]
  },
  {
   "cell_type": "code",
   "execution_count": null,
   "metadata": {},
   "outputs": [],
   "source": [
    "print(y_train[0:5])\n",
    "print(X_train.shape)"
   ]
  },
  {
   "cell_type": "code",
   "execution_count": null,
   "metadata": {
    "collapsed": true
   },
   "outputs": [],
   "source": [
    "# 1-dim class arrays to 10-dim array \n",
    "Y_train = np_utils.to_categorical(y_train, 10)\n",
    "Y_test = np_utils.to_categorical(y_test, 10)"
   ]
  },
  {
   "cell_type": "code",
   "execution_count": null,
   "metadata": {
    "collapsed": true
   },
   "outputs": [],
   "source": [
    "########## \n",
    "# model architecture\n",
    "\n",
    "model = Sequential()\n",
    "\n",
    "model.add(Conv2D(32, (5, 5), activation='relu', input_shape=(28, 28, 1)))\n",
    "model.add(Conv2D(32, (5, 5), activation='relu'))\n",
    "\n",
    "model.add(MaxPooling2D(pool_size=(2,2)))\n",
    "model.add(Dropout(0.25))\n",
    "\n",
    "model.add(Conv2D(16, (3, 3), activation='relu'))\n",
    "model.add(Conv2D(10, (3, 3), activation='relu'))\n",
    "\n",
    "model.add(MaxPooling2D(pool_size=(2,2)))\n",
    "#model.add(Dropout(0.25))\n",
    "\n",
    "model.add(Flatten())\n",
    "model.add(Dense(128, activation='relu'))\n",
    "model.add(Dropout(0.5))\n",
    "model.add(Dense(10, activation='softmax'))"
   ]
  },
  {
   "cell_type": "code",
   "execution_count": null,
   "metadata": {
    "collapsed": true
   },
   "outputs": [],
   "source": [
    "model.compile(optimizer='adam', loss = 'categorical_crossentropy', \n",
    "             metrics=['accuracy'])"
   ]
  },
  {
   "cell_type": "code",
   "execution_count": null,
   "metadata": {},
   "outputs": [],
   "source": [
    "model.fit(X_train, Y_train, batch_size=32, epochs=10, verbose=1)"
   ]
  },
  {
   "cell_type": "code",
   "execution_count": null,
   "metadata": {},
   "outputs": [],
   "source": [
    "score = model.evaluate(X_test, Y_test, verbose=0)\n",
    "scores.append(score)\n",
    "print(score)"
   ]
  },
  {
   "cell_type": "code",
   "execution_count": null,
   "metadata": {},
   "outputs": [],
   "source": [
    "scores"
   ]
  },
  {
   "cell_type": "markdown",
   "metadata": {},
   "source": [
    "### 2 increase filter on 1st\n",
    "Epoch 1/10\n",
    "60000/60000 [==============================] - 8s - loss: 0.2012 - acc: 0.9395     \n",
    "Epoch 2/10\n",
    "60000/60000 [==============================] - 8s - loss: 0.0852 - acc: 0.9745     \n",
    "Epoch 3/10\n",
    "60000/60000 [==============================] - 7s - loss: 0.0643 - acc: 0.9810     \n",
    "Epoch 4/10\n",
    "60000/60000 [==============================] - 7s - loss: 0.0531 - acc: 0.9842     \n",
    "Epoch 5/10\n",
    "60000/60000 [==============================] - 8s - loss: 0.0434 - acc: 0.9868     \n",
    "Epoch 6/10\n",
    "60000/60000 [==============================] - 8s - loss: 0.0411 - acc: 0.9871     \n",
    "Epoch 7/10\n",
    "60000/60000 [==============================] - 8s - loss: 0.0355 - acc: 0.9893     \n",
    "Epoch 8/10\n",
    "60000/60000 [==============================] - 8s - loss: 0.0330 - acc: 0.9895     \n",
    "Epoch 9/10\n",
    "60000/60000 [==============================] - 8s - loss: 0.0291 - acc: 0.9912     \n",
    "Epoch 10/10\n",
    "60000/60000 [==============================] - 8s - loss: 0.0281 - acc: 0.9914 \n",
    "\n",
    "### 3, 10 layer before dropout, not good\n",
    "\n",
    "## 4, layer after dropout\n",
    "Epoch 1/10\n",
    "60000/60000 [==============================] - 8s - loss: 0.2249 - acc: 0.9299     \n",
    "Epoch 2/10\n",
    "60000/60000 [==============================] - 8s - loss: 0.0872 - acc: 0.9743     \n",
    "Epoch 3/10\n",
    "60000/60000 [==============================] - 8s - loss: 0.0655 - acc: 0.9807     \n",
    "Epoch 4/10\n",
    "60000/60000 [==============================] - 8s - loss: 0.0571 - acc: 0.9832     \n",
    "Epoch 5/10\n",
    "60000/60000 [==============================] - 8s - loss: 0.0470 - acc: 0.9858     \n",
    "Epoch 6/10\n",
    "60000/60000 [==============================] - 8s - loss: 0.0430 - acc: 0.9872     \n",
    "Epoch 7/10\n",
    "60000/60000 [==============================] - 8s - loss: 0.0403 - acc: 0.9875     \n",
    "Epoch 8/10\n",
    "60000/60000 [==============================] - 8s - loss: 0.0378 - acc: 0.9883     \n",
    "Epoch 9/10\n",
    "60000/60000 [==============================] - 8s - loss: 0.0345 - acc: 0.9889     \n",
    "Epoch 10/10\n",
    "60000/60000 [==============================] - 8s - loss: 0.0318 - acc: 0.9906 \n",
    "\n",
    "### 5, 2nd dense layer, bad\n",
    "Epoch 1/10\n",
    "60000/60000 [==============================] - 8s - loss: 0.2668 - acc: 0.9192     \n",
    "Epoch 2/10\n",
    "60000/60000 [==============================] - 8s - loss: 0.0909 - acc: 0.9766     \n",
    "Epoch 3/10\n",
    "60000/60000 [==============================] - 8s - loss: 0.0653 - acc: 0.9833     \n",
    "Epoch 4/10\n",
    "60000/60000 [==============================] - 8s - loss: 0.0523 - acc: 0.9858     \n",
    "Epoch 5/10\n",
    "60000/60000 [==============================] - 9s - loss: 0.0451 - acc: 0.9881     \n",
    "Epoch 6/10\n",
    "60000/60000 [==============================] - 8s - loss: 0.0382 - acc: 0.9896     \n",
    "Epoch 7/10\n",
    "60000/60000 [==============================] - 8s - loss: 0.0337 - acc: 0.9908     \n",
    "Epoch 8/10\n",
    "60000/60000 [==============================] - 8s - loss: 0.0293 - acc: 0.9923     \n",
    "Epoch 9/10\n",
    "60000/60000 [==============================] - 8s - loss: 0.0293 - acc: 0.9922     \n",
    "Epoch 10/10\n",
    "60000/60000 [==============================] - 8s - loss: 0.0257 - acc: 0.9929   \n",
    "\n",
    "## 6, 2nd maxpooling, good test, poor acc on train\n",
    "\n",
    "## 7, 2nd dropout after conv"
   ]
  }
 ],
 "metadata": {
  "kernelspec": {
   "display_name": "Python 3",
   "language": "python",
   "name": "python3"
  },
  "language_info": {
   "codemirror_mode": {
    "name": "ipython",
    "version": 3
   },
   "file_extension": ".py",
   "mimetype": "text/x-python",
   "name": "python",
   "nbconvert_exporter": "python",
   "pygments_lexer": "ipython3",
   "version": "3.6.1"
  }
 },
 "nbformat": 4,
 "nbformat_minor": 2
}
